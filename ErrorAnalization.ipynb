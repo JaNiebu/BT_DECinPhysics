{
 "cells": [
  {
   "cell_type": "code",
   "execution_count": 5,
   "metadata": {},
   "outputs": [],
   "source": [
    "import numpy as np\n",
    "import matplotlib.pyplot as plt\n",
    "import matplotlib\n",
    "from scipy.interpolate import griddata\n",
    "from matplotlib.gridspec import GridSpec\n",
    "import struct\n",
    "\n",
    "MeshesVertices = dict()\n",
    "MeshesEdges = dict()\n",
    "MeshesFaces = dict()\n",
    "ErrorData = dict()\n",
    "\n",
    "for n in range(1,6):\n",
    "    Vadress = \"Meshdata/VerticesRing\" + str(n) +\".txt\"\n",
    "    MeshesVertices['V'+str(n)] = np.genfromtxt( Vadress )\n",
    "    Eadress = \"Meshdata/EdgesRing\" + str(n) +\".txt\"\n",
    "    MeshesEdges['E'+str(n)] = np.genfromtxt( Eadress )\n",
    "    Fadress = \"Meshdata/FacesRing\" + str(n) +\".txt\"\n",
    "    MeshesFaces['F'+str(n)] = np.genfromtxt( Fadress )\n",
    "    \n",
    "    for alpha in range(2,5):\n",
    "        Erradress = \"Solutions/ErrorRing\" + str(n) + \"Field\" + str(alpha)\n",
    "        ErrorData['Error'+str(n)+str(alpha)] = np.genfromtxt( Erradress )\n",
    "        "
   ]
  },
  {
   "cell_type": "code",
   "execution_count": 12,
   "metadata": {},
   "outputs": [
    {
     "name": "stdout",
     "output_type": "stream",
     "text": [
      "[5, 15, 31, 53, 81]\n",
      "[5, 15, 31, 53, 81]\n",
      "[5, 15, 31, 53, 81]\n"
     ]
    },
    {
     "data": {
      "image/png": "[encoded data removed]",
      "text/plain": [
       "<Figure size 640x480 with 1 Axes>"
      ]
     },
     "metadata": {},
     "output_type": "display_data"
    }
   ],
   "source": [
    "for alpha in range(2,5):\n",
    "    NodeIndex = []\n",
    "    for n in range(1,6):\n",
    "        for i in range (0,len(MeshesVertices['V'+str(n)])):\n",
    "            if (MeshesVertices['V'+str(n)][i][0] == 1):\n",
    "                NodeIndex.append(i)\n",
    "    print(NodeIndex)\n",
    "    \n",
    "    for i in range(0, len(NodeIndex)):\n",
    "        plt.scatter(i+1, ErrorData['Error'+str((i+1))+str(alpha)][NodeIndex[i]])\n",
    "\n"
   ]
  },
  {
   "cell_type": "code",
   "execution_count": null,
   "metadata": {},
   "outputs": [],
   "source": []
  }
 ],
 "metadata": {
  "kernelspec": {
   "display_name": "base",
   "language": "python",
   "name": "python3"
  },
  "language_info": {
   "codemirror_mode": {
    "name": "ipython",
    "version": 3
   },
   "file_extension": ".py",
   "mimetype": "text/x-python",
   "name": "python",
   "nbconvert_exporter": "python",
   "pygments_lexer": "ipython3",
   "version": "3.10.6"
  },
  "orig_nbformat": 4,
  "vscode": {
   "interpreter": {
    "hash": "d4d1e4263499bec80672ea0156c357c1ee493ec2b1c70f0acce89fc37c4a6abe"
   }
  }
 },
 "nbformat": 4,
 "nbformat_minor": 2
}
